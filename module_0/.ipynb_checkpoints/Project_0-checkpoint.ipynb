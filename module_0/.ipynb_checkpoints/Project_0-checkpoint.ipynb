{
 "cells": [
  {
   "cell_type": "code",
   "execution_count": 1,
   "metadata": {
    "ExecuteTime": {
     "end_time": "2020-06-24T17:03:44.594886Z",
     "start_time": "2020-06-24T17:03:43.648171Z"
    }
   },
   "outputs": [],
   "source": [
    "import numpy as np"
   ]
  },
  {
   "cell_type": "code",
   "execution_count": 2,
   "metadata": {
    "ExecuteTime": {
     "end_time": "2020-06-24T17:03:44.606525Z",
     "start_time": "2020-06-24T17:03:44.596807Z"
    }
   },
   "outputs": [],
   "source": [
    "def game_core_v3(number):\n",
    "    '''\n",
    "    Функция принимает загаданное число и возвращает число попыток, \n",
    "    потребовавшееся для его угадывания.\n",
    "    \n",
    "    Стратегия угадывания:\n",
    "    Сначала спрашиваем число из середины допустимого диапазона и \n",
    "    узнаем, в каком промежутке (слева или справа) лежит загаданное \n",
    "    число. Далее работаем с полученным диапазоном.\n",
    "    На 2-м и последующих шагах повторяем стратегию деления диапазона\n",
    "    пополам, спрашивая число из середины\n",
    "    диапазона, и определяя диапазон, содержащий загаданное значение.  \n",
    "    \n",
    "    Обоснование эффективности:\n",
    "    С учетом того, что каждая попытка уменьшает диапазон, содержащий\n",
    "    загаданное число вдвое, можно оценить максимальное количество по-\n",
    "    пыток, необходимых для отгадывания. Это будет 7, как наименьшая \n",
    "    степень числа 2, которая больше 100.\n",
    "    \n",
    "    '''\n",
    "    \n",
    "    count = 1\n",
    "    search_range = [1, 100] # Диапазон поиска (включительно).\n",
    "    predict = 50\n",
    "    \n",
    "    while number != predict:\n",
    "        count += 1\n",
    "        \n",
    "        # Сокращаем диапазон поиска.\n",
    "        if number > predict: \n",
    "            search_range[0] = predict+1\n",
    "        elif number < predict: \n",
    "            search_range[1] = predict-1\n",
    "            \n",
    "        # Определяем середину нового диапазона.\n",
    "        predict = search_range[0] + (search_range[1]-search_range[0])//2\n",
    "        \n",
    "    return(count)\n",
    "\n",
    "def score_game(game_core):\n",
    "    '''Запускаем игру 1000 раз, чтобы узнать, как быстро игра угадывает число'''\n",
    "    count_ls = []\n",
    "    np.random.seed(1)  # фиксируем RANDOM SEED, чтобы ваш эксперимент был воспроизводим!\n",
    "    random_array = np.random.randint(1,101, size=(1000))\n",
    "    for number in random_array:\n",
    "        count_ls.append(game_core(number))\n",
    "    score = int(np.mean(count_ls))\n",
    "    print(f\"Ваш алгоритм угадывает число в среднем за {score} попыток\")\n",
    "    return(score)"
   ]
  },
  {
   "cell_type": "code",
   "execution_count": 3,
   "metadata": {
    "ExecuteTime": {
     "end_time": "2020-06-24T17:03:44.637876Z",
     "start_time": "2020-06-24T17:03:44.615902Z"
    }
   },
   "outputs": [
    {
     "name": "stdout",
     "output_type": "stream",
     "text": [
      "Ваш алгоритм угадывает число в среднем за 5 попыток\n"
     ]
    },
    {
     "data": {
      "text/plain": [
       "5"
      ]
     },
     "execution_count": 3,
     "metadata": {},
     "output_type": "execute_result"
    }
   ],
   "source": [
    "score_game(game_core_v3)"
   ]
  },
  {
   "cell_type": "code",
   "execution_count": null,
   "metadata": {},
   "outputs": [],
   "source": []
  }
 ],
 "metadata": {
  "kernelspec": {
   "display_name": "Python 3",
   "language": "python",
   "name": "python3"
  },
  "language_info": {
   "codemirror_mode": {
    "name": "ipython",
    "version": 3
   },
   "file_extension": ".py",
   "mimetype": "text/x-python",
   "name": "python",
   "nbconvert_exporter": "python",
   "pygments_lexer": "ipython3",
   "version": "3.7.4"
  }
 },
 "nbformat": 4,
 "nbformat_minor": 2
}
